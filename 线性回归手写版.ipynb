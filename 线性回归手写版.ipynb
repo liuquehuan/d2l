{
 "cells": [
  {
   "cell_type": "code",
   "execution_count": 1,
   "id": "7a6e08cf-e137-4f63-a3e3-f30f0bc6e633",
   "metadata": {},
   "outputs": [],
   "source": [
    "%matplotlib inline\n",
    "import random\n",
    "import torch\n",
    "from d2l import torch as d2l"
   ]
  },
  {
   "cell_type": "code",
   "execution_count": 2,
   "id": "56d7988e-7a11-4c8d-9ddd-b5cd06777fcf",
   "metadata": {},
   "outputs": [],
   "source": [
    "def synthetic_data(w, b, num_examples): # 生成y=Xw+b+噪声\n",
    "    X = torch.normal(0, 1, (num_examples, len(w)))\n",
    "    y = torch.matmul(X, w) + b # 矩阵和向量可以直接相乘\n",
    "    y += torch.normal(0, 0.01, y.shape)\n",
    "    return X, y"
   ]
  },
  {
   "cell_type": "code",
   "execution_count": 3,
   "id": "63379b7c-7ced-4aa9-9f88-3617d57790ca",
   "metadata": {},
   "outputs": [],
   "source": [
    "true_w = torch.tensor([[2], [-3.4]])\n",
    "true_b = 4.2\n",
    "features, labels = synthetic_data(true_w, true_b, 1000)"
   ]
  },
  {
   "cell_type": "code",
   "execution_count": 4,
   "id": "cd3a59ab-0eff-4f15-a28a-89be0b17dac1",
   "metadata": {},
   "outputs": [],
   "source": [
    "def data_iter(batch_size, features, labels): # 随机抽取小批量样本\n",
    "    num_examples = len(features)\n",
    "    indices = list(range(num_examples))\n",
    "    random.shuffle(indices)\n",
    "    for i in range(0, num_examples, batch_size):\n",
    "        batch_indices = torch.tensor(indices[i: min(i + batch_size, num_examples)])\n",
    "        yield features[batch_indices], labels[batch_indices]"
   ]
  },
  {
   "cell_type": "code",
   "execution_count": 5,
   "id": "96e38f5c-7bb7-4aca-83aa-170da5d2630b",
   "metadata": {},
   "outputs": [],
   "source": [
    "w = torch.normal(0, 0.01, size=(2,1), requires_grad=True)\n",
    "b = torch.zeros(1, requires_grad=True)"
   ]
  },
  {
   "cell_type": "code",
   "execution_count": 6,
   "id": "e551fa9d-3299-4b95-be1f-03eb65147a0c",
   "metadata": {},
   "outputs": [],
   "source": [
    "def linreg(X, w, b): # 定义线性回归模型\n",
    "    return torch.matmul(X, w) + b"
   ]
  },
  {
   "cell_type": "code",
   "execution_count": 7,
   "id": "1d3615e0-9c1b-4a74-8ce6-425d424e3c7e",
   "metadata": {},
   "outputs": [],
   "source": [
    "def squared_loss(y_hat, y): # 定义L2 loss\n",
    "    return (y_hat - y) ** 2 / 2"
   ]
  },
  {
   "cell_type": "code",
   "execution_count": 8,
   "id": "3e802f29-2014-4b13-aa69-b326107da3f8",
   "metadata": {},
   "outputs": [],
   "source": [
    "def sgd(params, lr, batch_size): # 小批量随机梯度下降\n",
    "    with torch.no_grad():\n",
    "        for param in params:\n",
    "            param -= lr * param.grad / batch_size\n",
    "            param.grad.zero_()"
   ]
  },
  {
   "cell_type": "code",
   "execution_count": 9,
   "id": "f22dc8aa-af36-4036-97d3-9401b064be64",
   "metadata": {},
   "outputs": [],
   "source": [
    "lr = 0.03\n",
    "num_epochs = 3\n",
    "net = linreg\n",
    "loss = squared_loss\n",
    "batch_size = 10"
   ]
  },
  {
   "cell_type": "code",
   "execution_count": 10,
   "id": "932eb020-e69a-4267-9e37-f76a5e381961",
   "metadata": {},
   "outputs": [
    {
     "name": "stdout",
     "output_type": "stream",
     "text": [
      "epoch1, loss 0.034430\n",
      "epoch2, loss 0.000129\n",
      "epoch3, loss 0.000052\n"
     ]
    }
   ],
   "source": [
    "for epoch in range(num_epochs):\n",
    "    for X, y in data_iter(batch_size, features, labels):\n",
    "        l = loss(net(X, w, b), y) # 小批量样本的损失\n",
    "        l.sum().backward()\n",
    "        sgd([w, b], lr, batch_size)\n",
    "    with torch.no_grad():\n",
    "        train_l = loss(net(features, w, b), labels)\n",
    "        print(f'epoch{epoch + 1}, loss {float(train_l.mean()):f}')"
   ]
  },
  {
   "cell_type": "code",
   "execution_count": null,
   "id": "a5accc74-4c68-48e6-92b2-e600744daa0f",
   "metadata": {},
   "outputs": [],
   "source": []
  }
 ],
 "metadata": {
  "kernelspec": {
   "display_name": "Python 3 (ipykernel)",
   "language": "python",
   "name": "python3"
  },
  "language_info": {
   "codemirror_mode": {
    "name": "ipython",
    "version": 3
   },
   "file_extension": ".py",
   "mimetype": "text/x-python",
   "name": "python",
   "nbconvert_exporter": "python",
   "pygments_lexer": "ipython3",
   "version": "3.9.17"
  }
 },
 "nbformat": 4,
 "nbformat_minor": 5
}
